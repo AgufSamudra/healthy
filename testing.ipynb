{
 "cells": [
  {
   "cell_type": "code",
   "execution_count": 1,
   "metadata": {},
   "outputs": [],
   "source": [
    "import pandas as pd\n",
    "from sklearn.metrics.pairwise import cosine_similarity"
   ]
  },
  {
   "cell_type": "code",
   "execution_count": 2,
   "metadata": {},
   "outputs": [],
   "source": [
    "df = pd.read_csv(\"dataset/9_class/training.csv\")\n",
    "df.dropna(inplace=True, axis=0)\n",
    "\n",
    "label = {\n",
    "    'Asam Lambung': 0,\n",
    "    'Batuk': 1, \n",
    "    'Cedera': 2, \n",
    "    'Demam': 3,\n",
    "    'Gatal': 4, \n",
    "    'Gigi': 5, \n",
    "    'Jerawat': 6, \n",
    "    'Menstruasi': 7, \n",
    "    'Sakit Kepala': 8\n",
    "}\n",
    "\n",
    "df['kategori'] = df['kategori'].map(label)"
   ]
  },
  {
   "cell_type": "code",
   "execution_count": 3,
   "metadata": {},
   "outputs": [
    {
     "data": {
      "text/html": [
       "<div>\n",
       "<style scoped>\n",
       "    .dataframe tbody tr th:only-of-type {\n",
       "        vertical-align: middle;\n",
       "    }\n",
       "\n",
       "    .dataframe tbody tr th {\n",
       "        vertical-align: top;\n",
       "    }\n",
       "\n",
       "    .dataframe thead th {\n",
       "        text-align: right;\n",
       "    }\n",
       "</style>\n",
       "<table border=\"1\" class=\"dataframe\">\n",
       "  <thead>\n",
       "    <tr style=\"text-align: right;\">\n",
       "      <th></th>\n",
       "      <th>tanya</th>\n",
       "      <th>jawab</th>\n",
       "      <th>kategori</th>\n",
       "    </tr>\n",
       "  </thead>\n",
       "  <tbody>\n",
       "    <tr>\n",
       "      <th>0</th>\n",
       "      <td>umur saya masih 18 tahun saya tidak obesitasti...</td>\n",
       "      <td>\\n\\n&lt;p&gt;Alo, terima kasih atas pertanyaannya un...</td>\n",
       "      <td>7</td>\n",
       "    </tr>\n",
       "    <tr>\n",
       "      <th>1</th>\n",
       "      <td>hai saya berusia 16 tahun 3 bulan saya mempuny...</td>\n",
       "      <td>\\n\\n&lt;p&gt;Selamat pagi, terima kasih telah bertan...</td>\n",
       "      <td>5</td>\n",
       "    </tr>\n",
       "    <tr>\n",
       "      <th>2</th>\n",
       "      <td>jika saat saya melakukan sit up kenapa perut s...</td>\n",
       "      <td>&lt;p&gt;Dear Azizi,\\n\\nSakit perut sebelah kiri bag...</td>\n",
       "      <td>2</td>\n",
       "    </tr>\n",
       "    <tr>\n",
       "      <th>3</th>\n",
       "      <td>belakangan ini saya mengalami diare tapi susah...</td>\n",
       "      <td>\\n\\n&lt;p&gt;Alo Adi,&lt;/p&gt;\\n&lt;p&gt;Terima kasih atas pert...</td>\n",
       "      <td>3</td>\n",
       "    </tr>\n",
       "    <tr>\n",
       "      <th>4</th>\n",
       "      <td>ter saya perempuan berusia 12 tahun sampe saat...</td>\n",
       "      <td>\\n\\n&lt;p&gt;Alo, terimakasih atas pertanyaannya.&lt;/p...</td>\n",
       "      <td>7</td>\n",
       "    </tr>\n",
       "  </tbody>\n",
       "</table>\n",
       "</div>"
      ],
      "text/plain": [
       "                                               tanya  \\\n",
       "0  umur saya masih 18 tahun saya tidak obesitasti...   \n",
       "1  hai saya berusia 16 tahun 3 bulan saya mempuny...   \n",
       "2  jika saat saya melakukan sit up kenapa perut s...   \n",
       "3  belakangan ini saya mengalami diare tapi susah...   \n",
       "4  ter saya perempuan berusia 12 tahun sampe saat...   \n",
       "\n",
       "                                               jawab  kategori  \n",
       "0  \\n\\n<p>Alo, terima kasih atas pertanyaannya un...         7  \n",
       "1  \\n\\n<p>Selamat pagi, terima kasih telah bertan...         5  \n",
       "2  <p>Dear Azizi,\\n\\nSakit perut sebelah kiri bag...         2  \n",
       "3  \\n\\n<p>Alo Adi,</p>\\n<p>Terima kasih atas pert...         3  \n",
       "4  \\n\\n<p>Alo, terimakasih atas pertanyaannya.</p...         7  "
      ]
     },
     "execution_count": 3,
     "metadata": {},
     "output_type": "execute_result"
    }
   ],
   "source": [
    "df.head()"
   ]
  },
  {
   "cell_type": "code",
   "execution_count": 4,
   "metadata": {},
   "outputs": [],
   "source": [
    "from helper import load_model_ml\n",
    "import tensorflow as tf\n",
    "import joblib\n",
    "\n",
    "model = tf.keras.models.load_model(\"model/model_3_87_85.h5\")\n",
    "vector = joblib.load(f\"notebook/tokenizer.pkl\")"
   ]
  },
  {
   "cell_type": "code",
   "execution_count": 9,
   "metadata": {},
   "outputs": [],
   "source": [
    "input_users = \"tubuh saya menggigil sejak tadi malam dok, suhu tubuh juga naikk. Apakah saya demam? cara cepat mengatasinya bagaimana yaa?\"\n",
    "\n",
    "# Sequence\n",
    "sequence_testing = vector.texts_to_sequences([input_users])\n",
    "\n",
    "# Padding\n",
    "max_sequence_length = 200\n",
    "padded_testing = tf.keras.preprocessing.sequence.pad_sequences(sequence_testing, \n",
    "                                                                maxlen=max_sequence_length, \n",
    "                                                                padding='post', \n",
    "                                                                truncating='post')"
   ]
  },
  {
   "cell_type": "code",
   "execution_count": 10,
   "metadata": {},
   "outputs": [
    {
     "name": "stdout",
     "output_type": "stream",
     "text": [
      "1/1 [==============================] - 0s 44ms/step\n"
     ]
    },
    {
     "name": "stdout",
     "output_type": "stream",
     "text": [
      "\n",
      "\n",
      "<p>Halo, Eka P. Handayani. Terima kasih atas pertanyaan yang disampaikan ke Alodokter. Kami memahami kekhawatiran yang Anda rasakan.</p>\n",
      "<p>Pada anak usia 3 bulan, imunisasi yang dianjurkan sudah diberikan meliputi hepatitis B ke-1-3, polio oral dan injeksi 1-2. BCG, DTP ke-1-2, Hib ke-1-2, PCV ke-1, dan rotavirus ke-1.</p>\n",
      "<p>Demam merupakan salah satu gejala umum yang dapat terjadi pascaimunisasi. Sekitar 42,9% dari keseluruhan kejadian ikutan pasca imunisasi adalah demam. Tidak menutup kemungkinan bahwa demam yang terjadi pascaimunisasi dapat menimbulkan kejang demam, namun umumnya kejadian ini sangat jarang dan hanya terjadi pada anak dengan faktor risiko kejang demam sebelumnya.</p>\n",
      "<p>Jangan ragu untuk tetap melakukan imunisasi sesuai dengan jadwal yang dianjurkan. Meski ada kemungkinan risiko efek samping seperti demam, manfaat yang diperoleh dari imunisasi jauh lebih besar bagi kesehatan anak dan masyarakat secara umum. Dokter pun dapat memberikan obat penurun panas untuk anak yang mengalami demam pascaimunisasi sehingga kejadian kejang demam pun juga dapat dicegah. Konsultasikan masalah yang Anda khawatirkan mengenai imunisasi dengan <a href=https://www.alodokter.com/cari-dokter/dokter-anak>dokter spesialis anak</a>.</p>\n",
      "<p>Untuk memperkaya wawasan, Anda dapat membaca artikel mengenai <a href=http://www.idai.or.id/artikel/klinik/imunisasi/tanya-jawab-orangtua-mengenai-imunisasi>imunisasi</a>. Demikian informasi dari kami. Mudah-mudahan senantiasa sehat. Semoga bermanfaat.</p>\n",
      "\n",
      "\n"
     ]
    }
   ],
   "source": [
    "prediction = model.predict(padded_testing).argmax()\n",
    "filter_data = df[df['kategori']==prediction]\n",
    "\n",
    "sequence_data = vector.texts_to_sequences(filter_data['tanya'])\n",
    "padded_data = tf.keras.preprocessing.sequence.pad_sequences(sequence_data, \n",
    "                                                                maxlen=max_sequence_length, \n",
    "                                                                padding='post', \n",
    "                                                                truncating='post')\n",
    "\n",
    "cosine_similarities = cosine_similarity(padded_testing, padded_data)\n",
    "most_similar_doc_index = cosine_similarities.argmax()\n",
    "\n",
    "most_similar_doc = filter_data.iloc[most_similar_doc_index]\n",
    "print(most_similar_doc[\"jawab\"])"
   ]
  },
  {
   "cell_type": "code",
   "execution_count": 6,
   "metadata": {},
   "outputs": [
    {
     "data": {
      "text/plain": [
       "1700"
      ]
     },
     "execution_count": 6,
     "metadata": {},
     "output_type": "execute_result"
    }
   ],
   "source": [
    "model = load_model_ml(\"model/model_1p1_88_85.pkl\")\n",
    "vector = joblib.load(f\"notebook/count_vectorizer.pkl\")\n",
    "\n",
    "input_users = [\"saya sakit kepala ampe mau putus\"]\n",
    "\n",
    "input_transform = vector.transform(input_users)  # Perhatikan bahwa input_users harus dibungkus dalam list\n",
    "prediction = model.predict(input_transform)\n",
    "\n",
    "filter_data = df[df['kategori']==prediction[0]]\n",
    "\n",
    "tf_matrix = vector.transform(filter_data['tanya'])\n",
    "\n",
    "cosine_similarities = cosine_similarity(input_transform, tf_matrix)\n",
    "most_similar_doc_index = cosine_similarities.argmax()\n",
    "\n",
    "most_similar_doc = filter_data.iloc[most_similar_doc_index]\n",
    "\n",
    "# print(most_similar_doc['jawab'])\n",
    "most_similar_doc_index"
   ]
  },
  {
   "cell_type": "markdown",
   "metadata": {},
   "source": []
  },
  {
   "cell_type": "code",
   "execution_count": 14,
   "metadata": {},
   "outputs": [
    {
     "name": "stdout",
     "output_type": "stream",
     "text": [
      "1/1 [==============================] - 0s 90ms/step\n",
      "\n",
      "\n",
      "<p>Halo Fattah,ÃÂ </p>\n",
      "<p>Makanan pedas biasanya tidak secara langsung membuat sakit kepala atau pusing. Tetapi biasanya komposisi lain pada makanan pedas tersebut, misalnya MSG/mecin yang digunakan sebagai penyedap. Terlalu banyak mengonsumsi MSG dapat berhubungan dengan sakit kepala, walaupun tidak semua mengalaminya. Sebagian orang sensitif pada glutamat pada MSG sehingga dapat merasakan gejala seperti pusing dan mual setelah makan makanan yang banyak mengandung MSG. Makanan yang kadar garamnya terlalu tinggi atau terlalu asin juga bisa memicu sakit kepala.ÃÂ </p>\n",
      "<p>Makanan pedas bisa membuat asam lambung meningkat dan rasa tidak nyaman di perut, walaupun tidak semua orang mengalaminya. Rasa tidak nyaman ini ada di lambung, di perut sebelah kiri sehingga mungkin hal inilah yang membuat Anda merasa sakit jantung. Rasa tidak nyaman, begah, kembung, mual dan nyeri di perut disebut dengan dispepsia/sakit maag. Dispepsia ini bisa memicu sakit kepala, keringat dingin dan pusing.ÃÂ </p>\n",
      "<p>Untuk menyiasati hal ini, sebaiknya batasi makanan pedas dan berpenyedap. Usahakan tidak makan makanan pedas dengan perut kosong. Konsumsi cukup cairan, makan makanan sehat gizi seimbang.ÃÂ </p>\n",
      "<p>Meski begitu, <a href=https://www.alodokter.com/sakit-kepala>sakit kepala</a> yang Anda rasakan bisa disebabkan hal lain. Jika Anda mengalami sakit kepala berulang sebaiknya segera memeriksakan diri ke dokter.ÃÂ </p>\n",
      "<p>Salam,ÃÂ </p>\n",
      "<p>dr. Mega</p>\n",
      "\n",
      "\n"
     ]
    }
   ],
   "source": [
    "max_sequence_length = 100\n",
    "\n",
    "# muat model dan text vectorizer config\n",
    "model = tf.keras.models.load_model(\"model/model_2p2_90_87.keras\")\n",
    "vector = tf.keras.layers.TextVectorization(\n",
    "    max_tokens=5000,\n",
    "    output_mode='int',\n",
    "    output_sequence_length=max_sequence_length)\n",
    "\n",
    "# mengubah kolom tanya pada DF menjadi numpy array\n",
    "training_data = np.array(df['tanya'], dtype=str)\n",
    "\n",
    "# mengubah input user menjadi numpy array\n",
    "input_array = np.array([input_users], dtype=str)\n",
    "\n",
    "# Adaptasikan vector ke Dataframe (training_data)\n",
    "vector.adapt(training_data)\n",
    "\n",
    "# prediksi input_array (input dari users)\n",
    "predictions = model.predict(input_array)\n",
    "\n",
    "predictions = np.argmax(predictions)\n",
    "filter_data = df[df['kategori'] == predictions]\n",
    "\n",
    "# mengubah input_array dan filter_data menjadi vector\n",
    "input_vector = vector(input_array).numpy()\n",
    "category_questions = vector(filter_data['tanya']).numpy()\n",
    "\n",
    "# Hitung cosine similarity antara input pengguna dan semua pertanyaan dalam kategori\n",
    "cosine_similarities = cosine_similarity(input_vector, category_questions)\n",
    "most_similar_doc_index = cosine_similarities.argmax()\n",
    "\n",
    "answer = filter_data.iloc[most_similar_doc_index]['jawab']\n",
    "print(answer)"
   ]
  },
  {
   "cell_type": "code",
   "execution_count": null,
   "metadata": {},
   "outputs": [],
   "source": []
  }
 ],
 "metadata": {
  "kernelspec": {
   "display_name": "env",
   "language": "python",
   "name": "python3"
  },
  "language_info": {
   "codemirror_mode": {
    "name": "ipython",
    "version": 3
   },
   "file_extension": ".py",
   "mimetype": "text/x-python",
   "name": "python",
   "nbconvert_exporter": "python",
   "pygments_lexer": "ipython3",
   "version": "3.8.8"
  },
  "orig_nbformat": 4
 },
 "nbformat": 4,
 "nbformat_minor": 2
}
