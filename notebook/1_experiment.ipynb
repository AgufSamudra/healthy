{
 "cells": [
  {
   "cell_type": "code",
   "execution_count": 1,
   "metadata": {},
   "outputs": [
    {
     "name": "stderr",
     "output_type": "stream",
     "text": [
      "[nltk_data] Downloading package punkt to\n",
      "[nltk_data]     C:\\Users\\gufra\\AppData\\Roaming\\nltk_data...\n",
      "[nltk_data]   Package punkt is already up-to-date!\n",
      "[nltk_data] Downloading package stopwords to\n",
      "[nltk_data]     C:\\Users\\gufra\\AppData\\Roaming\\nltk_data...\n",
      "[nltk_data]   Package stopwords is already up-to-date!\n"
     ]
    },
    {
     "data": {
      "text/plain": [
       "True"
      ]
     },
     "execution_count": 1,
     "metadata": {},
     "output_type": "execute_result"
    }
   ],
   "source": [
    "import pandas as pd\n",
    "import numpy as np\n",
    "import matplotlib.pyplot as plt\n",
    "from sklearn.feature_extraction.text import CountVectorizer, TfidfVectorizer\n",
    "from sklearn.model_selection import RandomizedSearchCV, train_test_split\n",
    "from tqdm import tqdm\n",
    "from scipy.stats import loguniform\n",
    "\n",
    "import joblib\n",
    "import nltk\n",
    "from nltk.tokenize import word_tokenize\n",
    "from nltk.corpus import stopwords\n",
    "nltk.download('punkt')\n",
    "nltk.download('stopwords')"
   ]
  },
  {
   "cell_type": "markdown",
   "metadata": {},
   "source": [
    "# Model_1p1"
   ]
  },
  {
   "cell_type": "code",
   "execution_count": 2,
   "metadata": {},
   "outputs": [
    {
     "data": {
      "text/html": [
       "<div>\n",
       "<style scoped>\n",
       "    .dataframe tbody tr th:only-of-type {\n",
       "        vertical-align: middle;\n",
       "    }\n",
       "\n",
       "    .dataframe tbody tr th {\n",
       "        vertical-align: top;\n",
       "    }\n",
       "\n",
       "    .dataframe thead th {\n",
       "        text-align: right;\n",
       "    }\n",
       "</style>\n",
       "<table border=\"1\" class=\"dataframe\">\n",
       "  <thead>\n",
       "    <tr style=\"text-align: right;\">\n",
       "      <th></th>\n",
       "      <th>tanya</th>\n",
       "      <th>jawab</th>\n",
       "      <th>kategori</th>\n",
       "    </tr>\n",
       "  </thead>\n",
       "  <tbody>\n",
       "    <tr>\n",
       "      <th>0</th>\n",
       "      <td>umur saya masih 18 tahun saya tidak obesitasti...</td>\n",
       "      <td>\\n\\n&lt;p&gt;Alo, terima kasih atas pertanyaannya un...</td>\n",
       "      <td>Menstruasi</td>\n",
       "    </tr>\n",
       "    <tr>\n",
       "      <th>1</th>\n",
       "      <td>hai saya berusia 16 tahun 3 bulan saya mempuny...</td>\n",
       "      <td>\\n\\n&lt;p&gt;Selamat pagi, terima kasih telah bertan...</td>\n",
       "      <td>Gigi</td>\n",
       "    </tr>\n",
       "    <tr>\n",
       "      <th>2</th>\n",
       "      <td>jika saat saya melakukan sit up kenapa perut s...</td>\n",
       "      <td>&lt;p&gt;Dear Azizi,\\n\\nSakit perut sebelah kiri bag...</td>\n",
       "      <td>Cedera</td>\n",
       "    </tr>\n",
       "    <tr>\n",
       "      <th>3</th>\n",
       "      <td>belakangan ini saya mengalami diare tapi susah...</td>\n",
       "      <td>\\n\\n&lt;p&gt;Alo Adi,&lt;/p&gt;\\n&lt;p&gt;Terima kasih atas pert...</td>\n",
       "      <td>Demam</td>\n",
       "    </tr>\n",
       "    <tr>\n",
       "      <th>4</th>\n",
       "      <td>ter saya perempuan berusia 12 tahun sampe saat...</td>\n",
       "      <td>\\n\\n&lt;p&gt;Alo, terimakasih atas pertanyaannya.&lt;/p...</td>\n",
       "      <td>Menstruasi</td>\n",
       "    </tr>\n",
       "  </tbody>\n",
       "</table>\n",
       "</div>"
      ],
      "text/plain": [
       "                                               tanya  \\\n",
       "0  umur saya masih 18 tahun saya tidak obesitasti...   \n",
       "1  hai saya berusia 16 tahun 3 bulan saya mempuny...   \n",
       "2  jika saat saya melakukan sit up kenapa perut s...   \n",
       "3  belakangan ini saya mengalami diare tapi susah...   \n",
       "4  ter saya perempuan berusia 12 tahun sampe saat...   \n",
       "\n",
       "                                               jawab    kategori  \n",
       "0  \\n\\n<p>Alo, terima kasih atas pertanyaannya un...  Menstruasi  \n",
       "1  \\n\\n<p>Selamat pagi, terima kasih telah bertan...        Gigi  \n",
       "2  <p>Dear Azizi,\\n\\nSakit perut sebelah kiri bag...      Cedera  \n",
       "3  \\n\\n<p>Alo Adi,</p>\\n<p>Terima kasih atas pert...       Demam  \n",
       "4  \\n\\n<p>Alo, terimakasih atas pertanyaannya.</p...  Menstruasi  "
      ]
     },
     "execution_count": 2,
     "metadata": {},
     "output_type": "execute_result"
    }
   ],
   "source": [
    "df = pd.read_csv(\"../dataset/9_class/training.csv\")\n",
    "df.dropna(inplace=True, axis=0)\n",
    "df.head()"
   ]
  },
  {
   "cell_type": "code",
   "execution_count": 3,
   "metadata": {},
   "outputs": [],
   "source": [
    "label = {\n",
    "    'Asam Lambung': 0,\n",
    "    'Batuk': 1, \n",
    "    'Cedera': 2, \n",
    "    'Demam': 3,\n",
    "    'Gatal': 4, \n",
    "    'Gigi': 5, \n",
    "    'Jerawat': 6, \n",
    "    'Menstruasi': 7, \n",
    "    'Sakit Kepala': 8\n",
    "}"
   ]
  },
  {
   "cell_type": "code",
   "execution_count": 4,
   "metadata": {},
   "outputs": [
    {
     "data": {
      "text/plain": [
       "kategori\n",
       "Menstruasi      3200\n",
       "Gigi            3200\n",
       "Cedera          3200\n",
       "Demam           3200\n",
       "Jerawat         3200\n",
       "Sakit Kepala    3200\n",
       "Asam Lambung    3199\n",
       "Gatal           3199\n",
       "Batuk           3198\n",
       "Name: count, dtype: int64"
      ]
     },
     "execution_count": 4,
     "metadata": {},
     "output_type": "execute_result"
    }
   ],
   "source": [
    "df.kategori.value_counts()"
   ]
  },
  {
   "cell_type": "code",
   "execution_count": 5,
   "metadata": {},
   "outputs": [],
   "source": [
    "df['kategori'] = df['kategori'].map(label)"
   ]
  },
  {
   "cell_type": "code",
   "execution_count": 6,
   "metadata": {},
   "outputs": [
    {
     "data": {
      "text/plain": [
       "((23036,), (5760,), (23036,), (5760,))"
      ]
     },
     "execution_count": 6,
     "metadata": {},
     "output_type": "execute_result"
    }
   ],
   "source": [
    "X_train, X_test, y_train, y_test = train_test_split(df.tanya, df.kategori, test_size=0.2, stratify=df.kategori, random_state=42)\n",
    "X_train.shape, X_test.shape, y_train.shape, y_test.shape"
   ]
  },
  {
   "cell_type": "code",
   "execution_count": 7,
   "metadata": {},
   "outputs": [
    {
     "data": {
      "text/plain": [
       "['count_vectorizer.pkl']"
      ]
     },
     "execution_count": 7,
     "metadata": {},
     "output_type": "execute_result"
    }
   ],
   "source": [
    "count_vector = CountVectorizer()\n",
    "X_train = count_vector.fit_transform(X_train)\n",
    "# X_test = count_vector.transform(X_test)\n",
    "\n",
    "joblib.dump(count_vector, 'count_vectorizer.pkl')"
   ]
  },
  {
   "cell_type": "markdown",
   "metadata": {},
   "source": [
    "### Modeling with Random Forest"
   ]
  },
  {
   "cell_type": "code",
   "execution_count": 11,
   "metadata": {},
   "outputs": [],
   "source": [
    "rf_params = {\n",
    "    \"n_estimators\": range(100, 500),\n",
    "    \"max_depth\": range(1, 50),\n",
    "    \"min_samples_split\": range(2, 50),\n",
    "    \"min_samples_leaf\": range(1, 50),\n",
    "}"
   ]
  },
  {
   "cell_type": "code",
   "execution_count": 12,
   "metadata": {},
   "outputs": [
    {
     "name": "stdout",
     "output_type": "stream",
     "text": [
      "Fitting 3 folds for each of 100 candidates, totalling 300 fits\n",
      "Best Parameters:\n",
      "{'n_estimators': 409, 'min_samples_split': 9, 'min_samples_leaf': 4, 'max_depth': 43}\n"
     ]
    },
    {
     "data": {
      "text/plain": [
       "(0.8807518666435145, 0.8567024916811912, 0.8538194444444445)"
      ]
     },
     "execution_count": 12,
     "metadata": {},
     "output_type": "execute_result"
    }
   ],
   "source": [
    "from sklearn.ensemble import RandomForestClassifier\n",
    "\n",
    "rf = RandomForestClassifier(n_jobs=-1, random_state=42)\n",
    "\n",
    "model_1 = RandomizedSearchCV(rf, rf_params, cv=3, n_iter=100, verbose=1, random_state=42, n_jobs=-1)\n",
    "model_1.fit(X_train, y_train)\n",
    "\n",
    "print(\"Best Parameters:\")\n",
    "print(model_1.best_params_)\n",
    "\n",
    "model_1.score(X_train, y_train), model_1.best_score_, model_1.score(X_test, y_test)"
   ]
  },
  {
   "cell_type": "code",
   "execution_count": 13,
   "metadata": {},
   "outputs": [
    {
     "name": "stdout",
     "output_type": "stream",
     "text": [
      "[3 0 3 ... 6 3 2]\n",
      "[3 0 3 ... 6 3 5]\n"
     ]
    }
   ],
   "source": [
    "prediction = model_1.predict(X_test)\n",
    "\n",
    "actual = y_test.values\n",
    "\n",
    "print(actual)\n",
    "print(prediction)"
   ]
  },
  {
   "cell_type": "code",
   "execution_count": 14,
   "metadata": {},
   "outputs": [
    {
     "name": "stdout",
     "output_type": "stream",
     "text": [
      "Laporan Klasifikasi:\n",
      "               precision    recall  f1-score   support\n",
      "\n",
      "Asam Lambung       0.85      0.79      0.82       640\n",
      "       Batuk       0.85      0.88      0.86       640\n",
      "      Cedera       0.88      0.73      0.80       640\n",
      "       Demam       0.80      0.70      0.75       640\n",
      "       Gatal       0.88      0.89      0.89       640\n",
      "        Gigi       0.91      0.97      0.94       640\n",
      "     Jerawat       0.87      0.92      0.89       640\n",
      "  Menstruasi       0.86      0.96      0.91       640\n",
      "Sakit Kepala       0.77      0.83      0.80       640\n",
      "\n",
      "    accuracy                           0.85      5760\n",
      "   macro avg       0.85      0.85      0.85      5760\n",
      "weighted avg       0.85      0.85      0.85      5760\n",
      "\n"
     ]
    }
   ],
   "source": [
    "from sklearn.metrics import classification_report\n",
    "\n",
    "report = classification_report(actual,prediction, target_names=label)\n",
    "print(\"Laporan Klasifikasi:\\n\", report)"
   ]
  },
  {
   "cell_type": "code",
   "execution_count": 15,
   "metadata": {},
   "outputs": [
    {
     "data": {
      "image/png": "[encoded data removed]",
      "text/plain": [
       "<Figure size 1500x1000 with 1 Axes>"
      ]
     },
     "metadata": {},
     "output_type": "display_data"
    }
   ],
   "source": [
    "from sklearn.metrics import confusion_matrix\n",
    "import seaborn as sns\n",
    "\n",
    "cm = confusion_matrix(actual, prediction)\n",
    "\n",
    "kategori_labels = [f'{i}' for i in range(len(cm))]\n",
    "\n",
    "# Membuat visualisasi matriks konfusi dengan Seaborn\n",
    "plt.figure(figsize=(15, 10))\n",
    "sns.heatmap(cm, annot=True, fmt=\"d\", cmap=\"Blues\", linewidths=0.1, cbar=False, square=True,\n",
    "            xticklabels=kategori_labels, yticklabels=kategori_labels, cbar_kws={\"orientation\": \"horizontal\"})\n",
    "plt.xlabel(\"Prediksi\")\n",
    "plt.ylabel(\"Aktual\")\n",
    "plt.title(\"Konfusion Matrik\")\n",
    "plt.xticks(rotation=90)\n",
    "plt.yticks(rotation=0)\n",
    "plt.show()"
   ]
  },
  {
   "cell_type": "code",
   "execution_count": 19,
   "metadata": {},
   "outputs": [],
   "source": [
    "from helper import save_model_ml\n",
    "\n",
    "save_model_ml(model_1, \"model_1p1_88_85\")"
   ]
  },
  {
   "cell_type": "markdown",
   "metadata": {},
   "source": [
    "# Model_1p2"
   ]
  },
  {
   "cell_type": "code",
   "execution_count": 6,
   "metadata": {},
   "outputs": [
    {
     "data": {
      "text/plain": [
       "((20157,), (8639,), (20157,), (8639,))"
      ]
     },
     "execution_count": 6,
     "metadata": {},
     "output_type": "execute_result"
    }
   ],
   "source": [
    "X_train, X_test, y_train, y_test = train_test_split(df.tanya, df.kategori, test_size=0.3, stratify=df.kategori, random_state=42)\n",
    "X_train.shape, X_test.shape, y_train.shape, y_test.shape"
   ]
  },
  {
   "cell_type": "code",
   "execution_count": 7,
   "metadata": {},
   "outputs": [
    {
     "data": {
      "text/plain": [
       "['tfidf_vectorizer.pkl']"
      ]
     },
     "execution_count": 7,
     "metadata": {},
     "output_type": "execute_result"
    }
   ],
   "source": [
    "tfidf_vector = TfidfVectorizer()\n",
    "X_train = tfidf_vector.fit_transform(X_train)\n",
    "# X_test = tfidf_vector.transform(X_test)"
   ]
  },
  {
   "cell_type": "code",
   "execution_count": 22,
   "metadata": {},
   "outputs": [
    {
     "name": "stdout",
     "output_type": "stream",
     "text": [
      "Fitting 3 folds for each of 10 candidates, totalling 30 fits\n",
      "Best Parameters:\n",
      "{'n_estimators': 411, 'min_samples_split': 20, 'min_samples_leaf': 3, 'max_depth': 32}\n"
     ]
    },
    {
     "data": {
      "text/plain": [
       "(0.8917497643498536, 0.8523589819913678, 0.8561176062044218)"
      ]
     },
     "execution_count": 22,
     "metadata": {},
     "output_type": "execute_result"
    }
   ],
   "source": [
    "from sklearn.ensemble import RandomForestClassifier\n",
    "\n",
    "rf = RandomForestClassifier(n_jobs=-1, random_state=42)\n",
    "\n",
    "model_1_2 = RandomizedSearchCV(rf, rf_params, cv=3, n_iter=10, verbose=1, random_state=42, n_jobs=-1)\n",
    "model_1_2.fit(X_train, y_train)\n",
    "\n",
    "print(\"Best Parameters:\")\n",
    "print(model_1_2.best_params_)\n",
    "\n",
    "model_1_2.score(X_train, y_train), model_1_2.best_score_, model_1_2.score(X_test, y_test)"
   ]
  },
  {
   "cell_type": "code",
   "execution_count": 23,
   "metadata": {},
   "outputs": [
    {
     "name": "stdout",
     "output_type": "stream",
     "text": [
      "[5 4 4 ... 1 2 7]\n",
      "[5 4 4 ... 1 2 7]\n"
     ]
    }
   ],
   "source": [
    "prediction = model_1_2.predict(X_test)\n",
    "\n",
    "actual = y_test.values\n",
    "\n",
    "print(actual)\n",
    "print(prediction)"
   ]
  },
  {
   "cell_type": "code",
   "execution_count": 24,
   "metadata": {},
   "outputs": [
    {
     "name": "stdout",
     "output_type": "stream",
     "text": [
      "Laporan Klasifikasi:\n",
      "               precision    recall  f1-score   support\n",
      "\n",
      "Asam Lambung       0.84      0.80      0.82       960\n",
      "       Batuk       0.84      0.87      0.85       959\n",
      "      Cedera       0.88      0.74      0.80       960\n",
      "       Demam       0.79      0.72      0.75       960\n",
      "       Gatal       0.89      0.91      0.90       960\n",
      "        Gigi       0.91      0.98      0.94       960\n",
      "     Jerawat       0.91      0.92      0.91       960\n",
      "  Menstruasi       0.87      0.96      0.91       960\n",
      "Sakit Kepala       0.78      0.81      0.80       960\n",
      "\n",
      "    accuracy                           0.86      8639\n",
      "   macro avg       0.86      0.86      0.85      8639\n",
      "weighted avg       0.86      0.86      0.85      8639\n",
      "\n"
     ]
    }
   ],
   "source": [
    "from sklearn.metrics import classification_report\n",
    "\n",
    "report = classification_report(actual,prediction, target_names=label)\n",
    "print(\"Laporan Klasifikasi:\\n\", report)"
   ]
  },
  {
   "cell_type": "code",
   "execution_count": 28,
   "metadata": {},
   "outputs": [
    {
     "data": {
      "image/png": "[encoded data removed]",
      "text/plain": [
       "<Figure size 1500x1000 with 1 Axes>"
      ]
     },
     "metadata": {},
     "output_type": "display_data"
    }
   ],
   "source": [
    "from sklearn.metrics import confusion_matrix\n",
    "import seaborn as sns\n",
    "\n",
    "cm = confusion_matrix(actual, prediction)\n",
    "\n",
    "kategori_labels = [f'{i}' for i in range(len(cm))]\n",
    "\n",
    "# Membuat visualisasi matriks konfusi dengan Seaborn\n",
    "plt.figure(figsize=(15, 10))\n",
    "sns.heatmap(cm, annot=True, fmt=\"d\", cmap=\"Blues\", linewidths=0.1, cbar=False, square=True,\n",
    "            xticklabels=kategori_labels, yticklabels=kategori_labels, cbar_kws={\"orientation\": \"horizontal\"})\n",
    "plt.xlabel(\"Prediksi\")\n",
    "plt.ylabel(\"Aktual\")\n",
    "plt.title(\"Konfusion Matrik\")\n",
    "plt.xticks(rotation=90)\n",
    "plt.yticks(rotation=0)\n",
    "plt.show()"
   ]
  },
  {
   "cell_type": "code",
   "execution_count": 29,
   "metadata": {},
   "outputs": [],
   "source": [
    "from helper import save_model_ml\n",
    "\n",
    "save_model_ml(model_1_2, \"model_1p2_89_86\")"
   ]
  },
  {
   "cell_type": "markdown",
   "metadata": {},
   "source": [
    "# Model_1p3"
   ]
  },
  {
   "cell_type": "code",
   "execution_count": 30,
   "metadata": {},
   "outputs": [],
   "source": [
    "from gensim.models import FastText\n",
    "model_fasttext = FastText.load(\"../language_model/healthy_chat_13_labels.bin\")\n",
    "model_fasttext = model_fasttext.wv"
   ]
  },
  {
   "cell_type": "code",
   "execution_count": 34,
   "metadata": {},
   "outputs": [
    {
     "name": "stderr",
     "output_type": "stream",
     "text": [
      "100%|██████████| 28796/28796 [00:05<00:00, 5360.49it/s]\n"
     ]
    }
   ],
   "source": [
    "import sys\n",
    "sys.path.append('../')\n",
    "from word_sent import WordToSentVector\n",
    "\n",
    "model = WordToSentVector(df.tanya, model_fasttext)\n",
    "model = model.fit()"
   ]
  },
  {
   "cell_type": "code",
   "execution_count": 35,
   "metadata": {},
   "outputs": [
    {
     "data": {
      "text/plain": [
       "((20157, 100), (8639, 100), (20157,), (8639,))"
      ]
     },
     "execution_count": 35,
     "metadata": {},
     "output_type": "execute_result"
    }
   ],
   "source": [
    "X_train, X_test, y_train, y_test = train_test_split(model, df.kategori, test_size=0.3, stratify=df.kategori, random_state=42)\n",
    "X_train.shape, X_test.shape, y_train.shape, y_test.shape"
   ]
  },
  {
   "cell_type": "code",
   "execution_count": 36,
   "metadata": {},
   "outputs": [
    {
     "name": "stdout",
     "output_type": "stream",
     "text": [
      "Fitting 3 folds for each of 10 candidates, totalling 30 fits\n",
      "Best Parameters:\n",
      "{'n_estimators': 411, 'min_samples_split': 20, 'min_samples_leaf': 3, 'max_depth': 32}\n"
     ]
    },
    {
     "data": {
      "text/plain": [
       "(0.983777347819616, 0.5587140943592797, 0.5638384072230582)"
      ]
     },
     "execution_count": 36,
     "metadata": {},
     "output_type": "execute_result"
    }
   ],
   "source": [
    "from sklearn.ensemble import RandomForestClassifier\n",
    "\n",
    "rf = RandomForestClassifier(n_jobs=-1, random_state=42)\n",
    "\n",
    "model_1_3 = RandomizedSearchCV(rf, rf_params, cv=3, n_iter=10, verbose=1, random_state=42, n_jobs=-1)\n",
    "model_1_3.fit(X_train, y_train)\n",
    "\n",
    "print(\"Best Parameters:\")\n",
    "print(model_1_3.best_params_)\n",
    "\n",
    "model_1_3.score(X_train, y_train), model_1_3.best_score_, model_1_3.score(X_test, y_test)"
   ]
  },
  {
   "cell_type": "code",
   "execution_count": 37,
   "metadata": {},
   "outputs": [],
   "source": [
    "from helper import save_model_ml\n",
    "\n",
    "save_model_ml(model_1_3, \"model_1p3_98_56\")"
   ]
  },
  {
   "cell_type": "code",
   "execution_count": null,
   "metadata": {},
   "outputs": [],
   "source": []
  }
 ],
 "metadata": {
  "kernelspec": {
   "display_name": "env",
   "language": "python",
   "name": "python3"
  },
  "language_info": {
   "codemirror_mode": {
    "name": "ipython",
    "version": 3
   },
   "file_extension": ".py",
   "mimetype": "text/x-python",
   "name": "python",
   "nbconvert_exporter": "python",
   "pygments_lexer": "ipython3",
   "version": "3.8.8"
  },
  "orig_nbformat": 4
 },
 "nbformat": 4,
 "nbformat_minor": 2
}
